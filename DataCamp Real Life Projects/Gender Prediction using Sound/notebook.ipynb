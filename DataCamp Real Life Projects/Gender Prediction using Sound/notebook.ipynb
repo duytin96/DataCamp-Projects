{
 "cells": [
  {
   "metadata": {
    "dc": {
     "key": "3"
    },
    "deletable": false,
    "editable": false,
    "run_control": {
     "frozen": true
    },
    "tags": [
     "context"
    ]
   },
   "cell_type": "markdown",
   "source": "## 1. Sound it out!\n<p>Grey and Gray. Colour and Color. Words like these have been the cause of many heated arguments between Brits and Americans. Accents (and jokes) aside, there are many words that are pronounced the same way but have different spellings. While it is easy for us to realize their equivalence, basic programming commands will fail to equate such two strings. </p>\n<p>More extreme than word spellings are names because people have more flexibility in choosing to spell a name in a certain way. To some extent, tradition sometimes governs the way a name is spelled, which limits the number of variations of any given English name. But if we consider global names and their associated English spellings, you can only imagine how many ways they can be spelled out. </p>\n<p>One way to tackle this challenge is to write a program that checks if two strings sound the same, instead of checking for equivalence in spellings. We'll do that here using fuzzy name matching.</p>"
  },
  {
   "metadata": {
    "dc": {
     "key": "3"
    },
    "tags": [
     "sample_code"
    ],
    "trusted": true
   },
   "cell_type": "code",
   "source": "# Importing the fuzzy package\nimport fuzzy\n# ... YOUR CODE FOR TASK 1 ...\n\n# Exploring the output of fuzzy.nysiis\n# ... YOUR CODE FOR TASK 1 ...\nfuzzy.nysiis('color')\n# Testing equivalence of similar sounding words\n# ... YOUR CODE FOR TASK 1 ...\nfuzzy.nysiis('colour')",
   "execution_count": 16,
   "outputs": [
    {
     "output_type": "execute_result",
     "execution_count": 16,
     "data": {
      "text/plain": "'CALAR'"
     },
     "metadata": {}
    }
   ]
  },
  {
   "metadata": {
    "dc": {
     "key": "10"
    },
    "deletable": false,
    "editable": false,
    "run_control": {
     "frozen": true
    },
    "tags": [
     "context"
    ]
   },
   "cell_type": "markdown",
   "source": "## 2. Authoring the authors\n<p>The New York Times puts out a weekly list of best-selling books from different genres, and which has been published since the 1930\u2019s.  We\u2019ll focus on Children\u2019s Picture Books, and analyze the gender distribution of authors to see if there have been changes over time. We'll begin by reading in the data on the best selling authors from 2008 to 2017.</p>"
  },
  {
   "metadata": {
    "dc": {
     "key": "10"
    },
    "tags": [
     "sample_code"
    ],
    "trusted": true
   },
   "cell_type": "code",
   "source": "# Importing the pandas module\n# ...YOUR CODE FOR TASK 2...\nimport pandas as pd\n# Reading in datasets/nytkids_yearly.csv, which is semicolon delimited.\n# ...YOUR CODE FOR TASK 2...\nauthor_df = pd.read_csv('datasets/nytkids_yearly.csv', delimiter=';')\n# Looping through author_df['Author'] to extract the authors first names\nfirst_name = []\nfor name in author_df.Author:\n    first_name.append(name.split(' ')[0])\n\n# Adding first_name as a column to author_df\n# ...YOUR CODE FOR TASK 2...\nauthor_df['first_name'] = first_name\n# Checking out the first few rows of author_df\n# ...YOUR CODE FOR TASK 2...\nauthor_df.head()",
   "execution_count": 18,
   "outputs": [
    {
     "output_type": "execute_result",
     "execution_count": 18,
     "data": {
      "text/plain": "   Year                        Book Title                 Author  \\\n0  2017                DRAGONS LOVE TACOS             Adam Rubin   \n1  2017  THE WONDERFUL THINGS YOU WILL BE  Emily Winfield Martin   \n2  2017          THE DAY THE CRAYONS QUIT           Drew Daywalt   \n3  2017            ROSIE REVERE, ENGINEER           Andrea Beaty   \n4  2017              ADA TWIST, SCIENTIST           Andrea Beaty   \n\n   Besteller this year first_name  \n0                   49       Adam  \n1                   48      Emily  \n2                   44       Drew  \n3                   38     Andrea  \n4                   28     Andrea  ",
      "text/html": "<div>\n<style scoped>\n    .dataframe tbody tr th:only-of-type {\n        vertical-align: middle;\n    }\n\n    .dataframe tbody tr th {\n        vertical-align: top;\n    }\n\n    .dataframe thead th {\n        text-align: right;\n    }\n</style>\n<table border=\"1\" class=\"dataframe\">\n  <thead>\n    <tr style=\"text-align: right;\">\n      <th></th>\n      <th>Year</th>\n      <th>Book Title</th>\n      <th>Author</th>\n      <th>Besteller this year</th>\n      <th>first_name</th>\n    </tr>\n  </thead>\n  <tbody>\n    <tr>\n      <th>0</th>\n      <td>2017</td>\n      <td>DRAGONS LOVE TACOS</td>\n      <td>Adam Rubin</td>\n      <td>49</td>\n      <td>Adam</td>\n    </tr>\n    <tr>\n      <th>1</th>\n      <td>2017</td>\n      <td>THE WONDERFUL THINGS YOU WILL BE</td>\n      <td>Emily Winfield Martin</td>\n      <td>48</td>\n      <td>Emily</td>\n    </tr>\n    <tr>\n      <th>2</th>\n      <td>2017</td>\n      <td>THE DAY THE CRAYONS QUIT</td>\n      <td>Drew Daywalt</td>\n      <td>44</td>\n      <td>Drew</td>\n    </tr>\n    <tr>\n      <th>3</th>\n      <td>2017</td>\n      <td>ROSIE REVERE, ENGINEER</td>\n      <td>Andrea Beaty</td>\n      <td>38</td>\n      <td>Andrea</td>\n    </tr>\n    <tr>\n      <th>4</th>\n      <td>2017</td>\n      <td>ADA TWIST, SCIENTIST</td>\n      <td>Andrea Beaty</td>\n      <td>28</td>\n      <td>Andrea</td>\n    </tr>\n  </tbody>\n</table>\n</div>"
     },
     "metadata": {}
    }
   ]
  },
  {
   "metadata": {
    "dc": {
     "key": "17"
    },
    "deletable": false,
    "editable": false,
    "run_control": {
     "frozen": true
    },
    "tags": [
     "context"
    ]
   },
   "cell_type": "markdown",
   "source": "## 3. It's time to bring on the phonics... _again_!\n<p>When we were young children, we were taught to read using phonics; sounding out the letters that compose words. So let's relive history and do that again, but using python this time. We will now create a new column or list that contains the phonetic equivalent of every first name that we just extracted. </p>\n<p>To make sure we're on the right track, let's compare the number of unique values in the <code>first_name</code> column and the number of unique values in the nysiis coded column. As a rule of thumb, the number of unique nysiis first names should be less than or equal to the number of actual first names.</p>"
  },
  {
   "metadata": {
    "dc": {
     "key": "17"
    },
    "tags": [
     "sample_code"
    ],
    "trusted": true
   },
   "cell_type": "code",
   "source": "# Importing numpy\nimport numpy as np\n# ...YOUR CODE FOR TASK 3...\n\n# Looping through author's first names to create the nysiis (fuzzy) equivalent\nnysiis_name = []\n# ...YOUR CODE FOR TASK 3...\nfor name in author_df.first_name:\n    nysiis_name.append(fuzzy.nysiis(name))\n\nauthor_df['nysiis_name'] = nysiis_name\n\n# Adding nysiis_name as a column to author_df\n# ...YOUR CODE FOR TASK 3...\n\n# Printing out the difference between unique firstnames and unique nysiis_names:\n# ...YOUR CODE FOR TASK 3...\nprint(len(np.unique(author_df.first_name)) - len(np.unique(author_df.nysiis_name)))",
   "execution_count": 20,
   "outputs": [
    {
     "output_type": "stream",
     "text": "25\n",
     "name": "stdout"
    }
   ]
  },
  {
   "metadata": {
    "dc": {
     "key": "24"
    },
    "deletable": false,
    "editable": false,
    "run_control": {
     "frozen": true
    },
    "tags": [
     "context"
    ]
   },
   "cell_type": "markdown",
   "source": "## 4. The inbetweeners\n<p>We'll use <code>babynames_nysiis.csv</code>, a dataset that is derived from <a href=\"https://www.ssa.gov/oact/babynames/limits.html\">the Social Security Administration\u2019s baby name data</a>, to identify author genders. The dataset contains unique NYSIIS versions of baby names, and also includes the percentage of times the name appeared as a female name (<code>perc_female</code>) and the percentage of times it appeared as a male name (<code>perc_male</code>). </p>\n<p>We'll use this data to create a list of <code>gender</code>. Let's make the following simplifying assumption: For each name, if <code>perc_female</code> is greater than <code>perc_male</code> then assume the name is female, if <code>perc_female</code> is less than <code>perc_male</code> then assume it is a male name, and if the percentages are equal then it's a \"neutral\" name.</p>"
  },
  {
   "metadata": {
    "dc": {
     "key": "24"
    },
    "tags": [
     "sample_code"
    ],
    "trusted": true
   },
   "cell_type": "code",
   "source": "# Reading in datasets/babynames_nysiis.csv, which is semicolon delimited.\nbabies_df = pd.read_csv('datasets/babynames_nysiis.csv', delimiter=';')\nbabies_df.head()\n# Looping through babies_df to and filling up gender\ngender = []\n# ... YOUR CODE FOR TASK 4 ...\nfor gen in babies_df.perc_male:\n    if gen < 50:\n        gender.append('F')\n    elif gen == 50:\n        gender.append('N')\n    else: gender.append('M')\n\n# Adding a gender column to babies_df\nbabies_df['gender'] = gender\n# ... YOUR CODE FOR TASK 4 ...\nbabies_df.head()\n# Printing out the first few rows of babies_df\n# ... YOUR CODE FOR TASK 4 ...",
   "execution_count": 22,
   "outputs": [
    {
     "output_type": "execute_result",
     "execution_count": 22,
     "data": {
      "text/plain": "  babynysiis  perc_female  perc_male gender\n0        NaN        62.50      37.50      F\n1        RAX        63.64      36.36      F\n2       ESAR        44.44      55.56      M\n3      DJANG         0.00     100.00      M\n4     PARCAL        25.00      75.00      M",
      "text/html": "<div>\n<style scoped>\n    .dataframe tbody tr th:only-of-type {\n        vertical-align: middle;\n    }\n\n    .dataframe tbody tr th {\n        vertical-align: top;\n    }\n\n    .dataframe thead th {\n        text-align: right;\n    }\n</style>\n<table border=\"1\" class=\"dataframe\">\n  <thead>\n    <tr style=\"text-align: right;\">\n      <th></th>\n      <th>babynysiis</th>\n      <th>perc_female</th>\n      <th>perc_male</th>\n      <th>gender</th>\n    </tr>\n  </thead>\n  <tbody>\n    <tr>\n      <th>0</th>\n      <td>NaN</td>\n      <td>62.50</td>\n      <td>37.50</td>\n      <td>F</td>\n    </tr>\n    <tr>\n      <th>1</th>\n      <td>RAX</td>\n      <td>63.64</td>\n      <td>36.36</td>\n      <td>F</td>\n    </tr>\n    <tr>\n      <th>2</th>\n      <td>ESAR</td>\n      <td>44.44</td>\n      <td>55.56</td>\n      <td>M</td>\n    </tr>\n    <tr>\n      <th>3</th>\n      <td>DJANG</td>\n      <td>0.00</td>\n      <td>100.00</td>\n      <td>M</td>\n    </tr>\n    <tr>\n      <th>4</th>\n      <td>PARCAL</td>\n      <td>25.00</td>\n      <td>75.00</td>\n      <td>M</td>\n    </tr>\n  </tbody>\n</table>\n</div>"
     },
     "metadata": {}
    }
   ]
  },
  {
   "metadata": {
    "dc": {
     "key": "31"
    },
    "deletable": false,
    "editable": false,
    "run_control": {
     "frozen": true
    },
    "tags": [
     "context"
    ]
   },
   "cell_type": "markdown",
   "source": "## 5. Playing matchmaker\n<p>Now that we have identified the likely genders of different names, let's find author genders by searching for each author's name in the <code>babies_df</code> DataFrame, and extracting the associated gender. </p>"
  },
  {
   "metadata": {
    "dc": {
     "key": "31"
    },
    "tags": [
     "sample_code"
    ],
    "trusted": true
   },
   "cell_type": "code",
   "source": "# This function returns the location of an element in a_list.\n# Where an item does not exist, it returns -1.\ndef locate_in_list(a_list, element):\n    loc_of_name = a_list.index(element) if element in a_list else -1\n    return(loc_of_name)\n\n# Looping through author_df['nysiis_name'] and appending the gender of each\n# author to author_gender.\nauthor_gender = []\n# print(babies_df.babynysiis)\n# ...YOUR CODE FOR TASK 5...\nfor nys in author_df.nysiis_name:\n    index = locate_in_list(list(babies_df.babynysiis), nys)\n    if index==-1:\n        author_gender.append('')\n    else: author_gender.append(babies_df.gender[index])\n# Adding author_gender to the author_df\n# ...YOUR CODE FOR TASK 5...\nauthor_df['author_gender'] = author_gender\n# Counting the author's genders\nauthor_df.author_gender.value_counts()\n",
   "execution_count": 24,
   "outputs": [
    {
     "output_type": "execute_result",
     "execution_count": 24,
     "data": {
      "text/plain": "F    395\nM    191\n       9\nN      8\nName: author_gender, dtype: int64"
     },
     "metadata": {}
    }
   ]
  },
  {
   "metadata": {
    "dc": {
     "key": "38"
    },
    "deletable": false,
    "editable": false,
    "run_control": {
     "frozen": true
    },
    "tags": [
     "context"
    ]
   },
   "cell_type": "markdown",
   "source": "## 6. Tally up\n<p>From the results above see that there are more female authors on the New York Times best seller's list than male authors. Our dataset spans 2008 to 2017. Let's find out if there have been changes over time.</p>"
  },
  {
   "metadata": {
    "dc": {
     "key": "38"
    },
    "tags": [
     "sample_code"
    ],
    "trusted": true
   },
   "cell_type": "code",
   "source": "# Creating a list of unique years, sorted in ascending order.\nyears = list(np.unique(author_df.Year))\n\n# Initializing lists\nmales_by_yr = []\nfemales_by_yr = []\nunknown_by_yr = []\n\n# Looping through years to find the number of male, female and unknown authors per year\n# ...YOUR CODE FOR TASK 6...\npivot = pd.pivot_table(author_df, index='Year', values='Author', columns='author_gender', aggfunc='count')\n# Printing out yearly values to examine changes over time\n# ...YOUR CODE FOR TASK 6...\n\n# Looping through years to find the number of male, female and unknown authors per year\nfor yr in years:\n    males_by_yr.append(\n        len(author_df[(author_df[\"author_gender\"] == 'M') & (author_df[\"Year\"] == yr)]))\n    females_by_yr.append(\n        len(author_df[(author_df[\"author_gender\"] == 'F') & (author_df[\"Year\"] == yr)]))\n    unknown_by_yr.append(len(\n        author_df[(author_df[\"author_gender\"] == 'Unknown') & (author_df[\"Year\"] == yr)]))\n\n# Printing out yearly values to examine changes over time\ndata = np.array([males_by_yr, females_by_yr, unknown_by_yr])\nheaders = ['males', 'females', 'unknowns']\npd.DataFrame(data, headers, years)",
   "execution_count": 33,
   "outputs": [
    {
     "output_type": "execute_result",
     "execution_count": 33,
     "data": {
      "text/plain": "          2008  2009  2010  2011  2012  2013  2014  2015  2016  2017\nmales        8    19    27    21    21    11    21    18    25    20\nfemales     15    45    48    51    46    51    34    30    32    43\nunknowns     0     0     0     0     0     0     0     0     0     0",
      "text/html": "<div>\n<style scoped>\n    .dataframe tbody tr th:only-of-type {\n        vertical-align: middle;\n    }\n\n    .dataframe tbody tr th {\n        vertical-align: top;\n    }\n\n    .dataframe thead th {\n        text-align: right;\n    }\n</style>\n<table border=\"1\" class=\"dataframe\">\n  <thead>\n    <tr style=\"text-align: right;\">\n      <th></th>\n      <th>2008</th>\n      <th>2009</th>\n      <th>2010</th>\n      <th>2011</th>\n      <th>2012</th>\n      <th>2013</th>\n      <th>2014</th>\n      <th>2015</th>\n      <th>2016</th>\n      <th>2017</th>\n    </tr>\n  </thead>\n  <tbody>\n    <tr>\n      <th>males</th>\n      <td>8</td>\n      <td>19</td>\n      <td>27</td>\n      <td>21</td>\n      <td>21</td>\n      <td>11</td>\n      <td>21</td>\n      <td>18</td>\n      <td>25</td>\n      <td>20</td>\n    </tr>\n    <tr>\n      <th>females</th>\n      <td>15</td>\n      <td>45</td>\n      <td>48</td>\n      <td>51</td>\n      <td>46</td>\n      <td>51</td>\n      <td>34</td>\n      <td>30</td>\n      <td>32</td>\n      <td>43</td>\n    </tr>\n    <tr>\n      <th>unknowns</th>\n      <td>0</td>\n      <td>0</td>\n      <td>0</td>\n      <td>0</td>\n      <td>0</td>\n      <td>0</td>\n      <td>0</td>\n      <td>0</td>\n      <td>0</td>\n      <td>0</td>\n    </tr>\n  </tbody>\n</table>\n</div>"
     },
     "metadata": {}
    }
   ]
  },
  {
   "metadata": {
    "dc": {
     "key": "45"
    },
    "deletable": false,
    "editable": false,
    "run_control": {
     "frozen": true
    },
    "tags": [
     "context"
    ]
   },
   "cell_type": "markdown",
   "source": "## 7. Foreign-born authors?\n<p>Our gender data comes from social security applications of individuals born in the US. Hence, one possible explanation for why there are \"unknown\" genders associated with some author names is because these authors were foreign-born. While making this assumption, we should note that these are only a subset of foreign-born authors as others will have names that have a match in <code>baby_df</code> (and in the social security dataset). </p>\n<p>Using a bar chart, let's explore the trend of foreign-born authors with no name matches in the social security dataset.</p>"
  },
  {
   "metadata": {
    "dc": {
     "key": "45"
    },
    "tags": [
     "sample_code"
    ],
    "trusted": true
   },
   "cell_type": "code",
   "source": "# Importing matplotlib\nimport matplotlib.pyplot as plt\n\n# This makes plots appear in the notebook\n%matplotlib inline\n\n# Plotting the bar chart\n# ...YOUR CODE FOR TASK 7...\nplt.bar(pivot.index, pivot.N)\nplt.show()\n\n# [OPTIONAL] - Setting a title, and axes labels\n# ...YOUR CODE FOR TASK 7...",
   "execution_count": 34,
   "outputs": [
    {
     "output_type": "display_data",
     "data": {
      "text/plain": "<matplotlib.figure.Figure at 0x7f9bac9dd3c8>",
      "image/png": "[encoded data removed]"
     },
     "metadata": {
      "needs_background": "light"
     }
    }
   ]
  },
  {
   "metadata": {
    "dc": {
     "key": "52"
    },
    "deletable": false,
    "editable": false,
    "run_control": {
     "frozen": true
    },
    "tags": [
     "context"
    ]
   },
   "cell_type": "markdown",
   "source": "## 8. Raising the bar\n<p>What\u2019s more exciting than a bar chart is a grouped bar chart. This type of chart is good for displaying <em>changes</em> over time while also <em>comparing</em> two or more groups. Let\u2019s use a grouped bar chart to look at the distribution of male and female authors over time.</p>"
  },
  {
   "metadata": {
    "dc": {
     "key": "52"
    },
    "tags": [
     "sample_code"
    ],
    "trusted": true
   },
   "cell_type": "code",
   "source": "# Creating a new list, where 0.25 is added to each year\nyears_shifted = [x]\n\n# Plotting males_by_yr by year\n# ... YOUR CODE FOR TASK 8 ...\nplt.bar(years, males_by_yr, color='lightblue')\n# Plotting females_by_yr by years_shifted\n# ... YOUR CODE FOR TASK 8 ...\nplt.bar(years_shifted, females_by_yr, color='pink')\n# [OPTIONAL] - Adding relevant Axes labels and Chart Title\n# ... YOUR CODE FOR TASK 8 ...\nplt.show()",
   "execution_count": 41,
   "outputs": [
    {
     "output_type": "error",
     "ename": "AttributeError",
     "evalue": "'list' object has no attribute 'add'",
     "traceback": [
      "---------------------------------------------------------------------------",
      "AttributeError                            Traceback (most recent call last)",
      "<ipython-input-41-cc628b6c7db5> in <module>\n      1 # Creating a new list, where 0.25 is added to each year\n----> 2 years_shifted = years.add(0.25)\n      3 \n      4 # Plotting males_by_yr by year\n      5 # ... YOUR CODE FOR TASK 8 ...\n",
      "AttributeError: 'list' object has no attribute 'add'"
     ]
    }
   ]
  }
 ],
 "metadata": {
  "kernelspec": {
   "name": "python3",
   "display_name": "Python 3",
   "language": "python"
  },
  "language_info": {
   "name": "python",
   "version": "3.6.7",
   "mimetype": "text/x-python",
   "codemirror_mode": {
    "name": "ipython",
    "version": 3
   },
   "pygments_lexer": "ipython3",
   "nbconvert_exporter": "python",
   "file_extension": ".py"
  }
 },
 "nbformat": 4,
 "nbformat_minor": 5
}